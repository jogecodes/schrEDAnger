{
 "cells": [
  {
   "cell_type": "code",
   "execution_count": 1,
   "id": "c13dfaaf",
   "metadata": {},
   "outputs": [],
   "source": [
    "import numpy as np\n",
    "from EDAspy.optimization import EGNA\n",
    "import matplotlib.pyplot as plt\n",
    "\n",
    "from utils import oned_well"
   ]
  },
  {
   "cell_type": "code",
   "execution_count": 2,
   "id": "eabd66d2",
   "metadata": {},
   "outputs": [],
   "source": [
    "# Definición de la función de optimización basada en referencia: Direct solution of Schrödinger equation by genetic algorithm:\n",
    "# test cases\n",
    "###############################\n",
    "# def compute_Z(x: Union[np.array, list]) -> float:\n",
    "#     # Energy_lower bound\n",
    "#     E = 0\n",
    "#     # Well lenght\n",
    "#     L = 5\n",
    "#     n = len(x)\n",
    "#     ExpE = 0\n",
    "#     j = 0\n",
    "#     cons = 1 * 10 ** (-6)\n",
    "#     if (x[0] < -0.1 or x[0] > 0.1) or (x[n - 1] < -0.1 or x[n - 1] > 0.1):\n",
    "#         F = np.infty\n",
    "#         return F\n",
    "\n",
    "#     else:\n",
    "#         for i in range(n):\n",
    "#             if i == 0:\n",
    "#                 ExpE = ExpE - 0.5 * ((n - 1) / L) * (\n",
    "#                     x[i] * (x[i] + x[i + 2] - 2 * x[i + 1])\n",
    "#                 )\n",
    "#                 j = j + x[i] ** 2 * (L / (n - 1))\n",
    "\n",
    "#             elif i == n - 1:\n",
    "#                 ExpE = ExpE - 0.5 * ((n - 1) / L) * (\n",
    "#                     x[i] * (x[i] + x[i - 2] - 2 * x[i - 1])\n",
    "#                 )\n",
    "#                 j = j + x[i] ** 2 * (L / (n - 1))\n",
    "\n",
    "#             else:\n",
    "#                 ExpE = ExpE - 0.5 * ((n - 1) / L) * (\n",
    "#                     x[i] * (x[i - 1] + x[i + 1] - 2 * x[i])\n",
    "#                 )\n",
    "#                 j = j + x[i] ** 2 * (L / (n - 1))\n",
    "\n",
    "#     Z = (ExpE / j - E) ** 2\n",
    "#     F = -1 * np.exp(-cons * Z)  # con signo menos global para minimizar\n",
    "#     return Z"
   ]
  },
  {
   "cell_type": "markdown",
   "id": "77d98086",
   "metadata": {},
   "source": [
    "Prueba de código con solución analítica"
   ]
  },
  {
   "cell_type": "code",
   "execution_count": 3,
   "id": "7b0bd59d",
   "metadata": {},
   "outputs": [
    {
     "name": "stdout",
     "output_type": "stream",
     "text": [
      "0.19737552409610196 1.0000000000000004 6.933347799794049e-33 -1.0\n"
     ]
    }
   ],
   "source": [
    "x = (2 / 5) ** 0.5 * np.sin(np.pi * np.linspace(0, 5, 100) * 1 / 5)\n",
    "n = len(x)\n",
    "L = 5\n",
    "m = 1\n",
    "ExpE = 0\n",
    "j = 0\n",
    "E = 0.19737552409610196\n",
    "cons = 1 * 10 ** (-12)\n",
    "for i in range(n):\n",
    "    if i == 0:\n",
    "        ExpE = ExpE - 0.5 * ((n - 1) / L) * x[i] * (x[i] + x[i + 2] - 2 * x[i + 1]) / m\n",
    "        j = j + x[i] ** 2 * (L / (n - 1))\n",
    "\n",
    "    elif i == n - 1:\n",
    "        ExpE = ExpE - 0.5 * ((n - 1) / L) * x[i] * (x[i] + x[i - 2] - 2 * x[i - 1]) / m\n",
    "        j = j + x[i] ** 2 * (L / (n - 1))\n",
    "\n",
    "    else:\n",
    "        ExpE = ExpE - 0.5 * ((n - 1) / L) * x[i] * (x[i - 1] + x[i + 1] - 2 * x[i]) / m\n",
    "        j = j + x[i] ** 2 * (L / (n - 1))\n",
    "\n",
    "Z = (ExpE / j - E) ** 2\n",
    "F = -1 * np.exp(-cons * Z)  # con signo menos global para minimizar\n",
    "\n",
    "print(ExpE, j, Z, F)"
   ]
  },
  {
   "cell_type": "markdown",
   "id": "974e1568",
   "metadata": {},
   "source": [
    "## Niveles de energía válidos\n",
    "Hemos fijado $m=\\hbar=1 \\longrightarrow h = 2\\pi$ y la longitud del pozo es $L=5$\n",
    "De manera que los niveles de energía admisibles pasan a ser:\n",
    "$$E_n = n²\\frac{h²}{8mL²} \\longrightarrow E_n = n²\\frac{(2\\pi)^2}{8L²}$$\n",
    "Con n=1 tenemos el ground state, de manera que podemos escribir:\n",
    "$$E_g = E_1 = \\frac{h²}{8mL²} \\longrightarrow E_n = n²\\,E_g $$\n",
    "Y tenemos: $$E_g = 0.1974$$\n"
   ]
  },
  {
   "cell_type": "code",
   "execution_count": 4,
   "id": "74d87b20",
   "metadata": {},
   "outputs": [
    {
     "name": "stdout",
     "output_type": "stream",
     "text": [
      "E_1 = 0.19739208802178715\n",
      "E_2 = 0.7895683520871486\n",
      "E_3 = 1.7765287921960844\n",
      "E_4 = 3.1582734083485944\n",
      "E_5 = 4.934802200544679\n",
      "E_6 = 7.106115168784338\n",
      "E_7 = 9.67221231306757\n"
     ]
    }
   ],
   "source": [
    "L = 5\n",
    "Eg = (2 * np.pi) ** 2 / (8 * L**2 * 1)\n",
    "En = []\n",
    "for i in range(7):\n",
    "    e = (i + 1) ** 2 * Eg\n",
    "    En.append(e)\n",
    "    print(f\"E_{i+1} = {e}\")"
   ]
  },
  {
   "cell_type": "markdown",
   "id": "12734164",
   "metadata": {},
   "source": [
    "## Discretización función de onda"
   ]
  },
  {
   "cell_type": "code",
   "execution_count": 5,
   "id": "3ef3b957-21c1-4936-9d58-7405320ad44f",
   "metadata": {},
   "outputs": [],
   "source": [
    "n_variables = (\n",
    "    51  # Es el número de elementos con los que se particiona la función de onda\n",
    ")"
   ]
  },
  {
   "cell_type": "code",
   "execution_count": 6,
   "id": "9a6a2eb3",
   "metadata": {},
   "outputs": [
    {
     "name": "stdout",
     "output_type": "stream",
     "text": [
      "0.1  es el tamaño del grid\n"
     ]
    }
   ],
   "source": [
    "print(5 / (n_variables - 1), \" es el tamaño del grid\")"
   ]
  },
  {
   "cell_type": "markdown",
   "id": "a3fde560",
   "metadata": {},
   "source": [
    "# EDAs"
   ]
  },
  {
   "cell_type": "markdown",
   "id": "ee1fdfde",
   "metadata": {},
   "source": [
    "Puesto que buscamos una función continua obligamos a la red Bayesiana a aprender arcos entre los puntos consecutivos. Aunque el algoritmo es capaz de hallar la solución sin necesidad de esto, y no hemos comprobado qué arcos aprendía en el proceso sin white list."
   ]
  },
  {
   "cell_type": "code",
   "execution_count": 7,
   "id": "04d005e9",
   "metadata": {},
   "outputs": [
    {
     "name": "stdout",
     "output_type": "stream",
     "text": [
      "IT:  0 \tBest cost:  999999999999\n",
      "IT:  1 \tBest cost:  94131359.2166364\n",
      "IT:  2 \tBest cost:  92422323.81937987\n",
      "IT:  3 \tBest cost:  90088460.130589\n",
      "IT:  4 \tBest cost:  90088460.130589\n",
      "IT:  5 \tBest cost:  380.25047975201073\n",
      "IT:  6 \tBest cost:  380.25047975201073\n",
      "IT:  7 \tBest cost:  380.25047975201073\n",
      "IT:  8 \tBest cost:  380.25047975201073\n",
      "IT:  9 \tBest cost:  380.25047975201073\n",
      "IT:  10 \tBest cost:  380.25047975201073\n",
      "IT:  11 \tBest cost:  341.69075401110246\n",
      "IT:  12 \tBest cost:  341.69075401110246\n",
      "IT:  13 \tBest cost:  341.69075401110246\n",
      "IT:  14 \tBest cost:  341.69075401110246\n",
      "IT:  15 \tBest cost:  341.69075401110246\n",
      "IT:  16 \tBest cost:  341.69075401110246\n",
      "IT:  17 \tBest cost:  341.69075401110246\n",
      "IT:  18 \tBest cost:  341.69075401110246\n",
      "IT:  19 \tBest cost:  336.02184152783\n",
      "IT:  20 \tBest cost:  294.88889804552645\n",
      "IT:  21 \tBest cost:  249.83814227984652\n",
      "IT:  22 \tBest cost:  249.83814227984652\n",
      "IT:  23 \tBest cost:  249.83814227984652\n",
      "IT:  24 \tBest cost:  249.83814227984652\n",
      "IT:  25 \tBest cost:  249.83814227984652\n",
      "IT:  26 \tBest cost:  249.83814227984652\n",
      "IT:  27 \tBest cost:  249.83814227984652\n",
      "IT:  28 \tBest cost:  249.83814227984652\n",
      "IT:  29 \tBest cost:  249.83814227984652\n",
      "IT:  30 \tBest cost:  249.83814227984652\n",
      "IT:  31 \tBest cost:  249.83814227984652\n",
      "IT:  32 \tBest cost:  249.83814227984652\n",
      "IT:  33 \tBest cost:  249.83814227984652\n",
      "IT:  34 \tBest cost:  160.65163933451583\n",
      "IT:  35 \tBest cost:  160.65163933451583\n",
      "IT:  36 \tBest cost:  160.65163933451583\n",
      "IT:  37 \tBest cost:  160.65163933451583\n",
      "IT:  38 \tBest cost:  160.65163933451583\n",
      "IT:  39 \tBest cost:  160.65163933451583\n",
      "IT:  40 \tBest cost:  160.65163933451583\n",
      "IT:  41 \tBest cost:  160.65163933451583\n",
      "IT:  42 \tBest cost:  160.65163933451583\n",
      "IT:  43 \tBest cost:  160.65163933451583\n",
      "IT:  44 \tBest cost:  160.65163933451583\n",
      "IT:  45 \tBest cost:  160.65163933451583\n",
      "IT:  46 \tBest cost:  160.65163933451583\n",
      "IT:  47 \tBest cost:  160.65163933451583\n",
      "IT:  48 \tBest cost:  160.65163933451583\n",
      "IT:  49 \tBest cost:  160.65163933451583\n",
      "IT:  50 \tBest cost:  160.65163933451583\n",
      "IT:  51 \tBest cost:  160.65163933451583\n",
      "IT:  52 \tBest cost:  160.65163933451583\n",
      "IT:  53 \tBest cost:  160.65163933451583\n",
      "IT:  54 \tBest cost:  160.65163933451583\n",
      "IT:  55 \tBest cost:  160.65163933451583\n",
      "IT:  56 \tBest cost:  160.65163933451583\n",
      "IT:  57 \tBest cost:  160.65163933451583\n",
      "IT:  58 \tBest cost:  160.65163933451583\n",
      "IT:  59 \tBest cost:  160.65163933451583\n",
      "IT:  60 \tBest cost:  160.65163933451583\n",
      "IT:  61 \tBest cost:  160.65163933451583\n",
      "IT:  62 \tBest cost:  160.65163933451583\n",
      "IT:  63 \tBest cost:  160.65163933451583\n",
      "IT:  64 \tBest cost:  160.65163933451583\n",
      "IT:  65 \tBest cost:  160.65163933451583\n",
      "IT:  66 \tBest cost:  160.65163933451583\n",
      "IT:  67 \tBest cost:  160.65163933451583\n",
      "IT:  68 \tBest cost:  160.65163933451583\n",
      "IT:  69 \tBest cost:  160.65163933451583\n",
      "IT:  70 \tBest cost:  160.65163933451583\n",
      "IT:  71 \tBest cost:  100.15965775027438\n",
      "IT:  72 \tBest cost:  47.97702250127607\n",
      "IT:  73 \tBest cost:  38.44530838987526\n",
      "IT:  74 \tBest cost:  33.33267553249356\n",
      "IT:  75 \tBest cost:  17.974159637064258\n",
      "IT:  76 \tBest cost:  13.052115993834681\n",
      "IT:  77 \tBest cost:  6.032369508297947\n",
      "IT:  78 \tBest cost:  5.158264676354497\n",
      "IT:  79 \tBest cost:  4.920018387556286\n",
      "IT:  80 \tBest cost:  2.9887713409787153\n",
      "IT:  81 \tBest cost:  2.030296764488979\n",
      "IT:  82 \tBest cost:  1.571532025213919\n",
      "IT:  83 \tBest cost:  1.091834858326802\n",
      "IT:  84 \tBest cost:  0.771073616228664\n",
      "IT:  85 \tBest cost:  0.649458508863701\n",
      "IT:  86 \tBest cost:  0.49220569041095696\n",
      "IT:  87 \tBest cost:  0.34942422416250646\n",
      "IT:  88 \tBest cost:  0.27641724971009823\n",
      "IT:  89 \tBest cost:  0.24503498775475097\n",
      "IT:  90 \tBest cost:  0.20332155414939956\n",
      "IT:  91 \tBest cost:  0.12028120468535196\n",
      "IT:  92 \tBest cost:  0.12028120468535196\n",
      "IT:  93 \tBest cost:  0.11945585282023806\n",
      "IT:  94 \tBest cost:  0.10387386147407059\n",
      "IT:  95 \tBest cost:  0.08447849967404493\n",
      "IT:  96 \tBest cost:  0.07854849791719212\n",
      "IT:  97 \tBest cost:  0.07476190720632003\n",
      "IT:  98 \tBest cost:  0.0677200641106289\n",
      "IT:  99 \tBest cost:  0.06227252861511071\n",
      "IT:  100 \tBest cost:  0.05994218659050127\n",
      "IT:  101 \tBest cost:  0.055310300122606106\n",
      "IT:  102 \tBest cost:  0.054750196845116526\n",
      "IT:  103 \tBest cost:  0.050821113274391545\n",
      "IT:  104 \tBest cost:  0.04955936931789848\n",
      "IT:  105 \tBest cost:  0.048884969613774955\n",
      "IT:  106 \tBest cost:  0.04689365899188653\n",
      "IT:  107 \tBest cost:  0.046463825391759965\n",
      "IT:  108 \tBest cost:  0.04504520729020391\n",
      "IT:  109 \tBest cost:  0.044468412162255486\n",
      "IT:  110 \tBest cost:  0.043709977990370415\n",
      "IT:  111 \tBest cost:  0.04347215670850731\n",
      "IT:  112 \tBest cost:  0.043188021270891636\n",
      "IT:  113 \tBest cost:  0.04272921950098433\n",
      "IT:  114 \tBest cost:  0.04236908138676028\n",
      "IT:  115 \tBest cost:  0.04203051272161608\n",
      "IT:  116 \tBest cost:  0.04181084473531628\n",
      "IT:  117 \tBest cost:  0.04155003550398295\n",
      "IT:  118 \tBest cost:  0.04151275340198797\n",
      "IT:  119 \tBest cost:  0.04122680010818863\n",
      "IT:  120 \tBest cost:  0.04118395742871842\n",
      "IT:  121 \tBest cost:  0.041109670920906845\n",
      "IT:  122 \tBest cost:  0.04097055134105519\n",
      "IT:  123 \tBest cost:  0.04087909433522344\n",
      "IT:  124 \tBest cost:  0.04073378437982919\n",
      "IT:  125 \tBest cost:  0.04074966444242006\n",
      "IT:  126 \tBest cost:  0.040723640399348934\n",
      "IT:  127 \tBest cost:  0.04066846719061566\n",
      "IT:  128 \tBest cost:  0.040612929015883696\n",
      "IT:  129 \tBest cost:  0.04056601670358451\n",
      "IT:  130 \tBest cost:  0.040542585663894466\n",
      "IT:  131 \tBest cost:  0.040543955741421514\n",
      "IT:  132 \tBest cost:  0.040509980607950066\n",
      "IT:  133 \tBest cost:  0.04051001651821342\n",
      "IT:  134 \tBest cost:  0.04048233695641539\n",
      "IT:  135 \tBest cost:  0.04047147300084906\n",
      "IT:  136 \tBest cost:  0.040462717143288446\n",
      "IT:  137 \tBest cost:  0.04043957793932368\n",
      "IT:  138 \tBest cost:  0.040442717701758064\n",
      "IT:  139 \tBest cost:  0.040431453245833256\n",
      "IT:  140 \tBest cost:  0.04042447217643942\n",
      "IT:  141 \tBest cost:  0.040424677072792126\n",
      "IT:  142 \tBest cost:  0.040421171263466345\n",
      "IT:  143 \tBest cost:  0.040415014642955764\n",
      "IT:  144 \tBest cost:  0.04040932204279257\n",
      "IT:  145 \tBest cost:  0.04040690908797514\n",
      "IT:  146 \tBest cost:  0.04040326043212474\n",
      "IT:  147 \tBest cost:  0.04039841589427002\n",
      "IT:  148 \tBest cost:  0.04039395269551958\n",
      "IT:  149 \tBest cost:  0.04038615735156743\n",
      "IT:  150 \tBest cost:  0.040386423305853375\n",
      "IT:  151 \tBest cost:  0.0403748318886498\n",
      "IT:  152 \tBest cost:  0.04037938124779998\n",
      "IT:  153 \tBest cost:  0.04037280286880677\n"
     ]
    }
   ],
   "source": [
    "whites = [(str(i), str(i + 1)) for i in range(n_variables - 1)]\n",
    "whites = [(str(i + 1), str(i)) for i in range(n_variables - 1)]\n",
    "results_dict = {}\n",
    "objects = [\n",
    "    \"eda_resultGAtoSE\",\n",
    "    \"eda_resultExpE\",\n",
    "    \"eda_resultExpExcitated\",\n",
    "    \"eda_resultGAtoSEExcitated\",\n",
    "    \"eda_resultExpExcitated3\",\n",
    "    \"eda_resultGAtoSEExcitated3\",\n",
    "    \"eda_resultExpExcitated4\",\n",
    "]\n",
    "\n",
    "qumda = EGNA(\n",
    "    size_gen=1500,\n",
    "    max_iter=500,\n",
    "    dead_iter=100,\n",
    "    n_variables=n_variables,\n",
    "    lower_bound=0,\n",
    "    upper_bound=2,\n",
    "    alpha=0.5,\n",
    "    parallelize=True,\n",
    "    white_list=whites,\n",
    ")\n",
    "results_dict[\"eda_resultExpE\"] = qumda.minimize(\n",
    "    oned_well.compute_z, output_runtime=True\n",
    ")"
   ]
  },
  {
   "cell_type": "markdown",
   "id": "75a24d6e",
   "metadata": {},
   "source": [
    "### Normalización soluciones\n",
    "Una vez halladas las soluciones es necesario normalizarlas de manera que se cumpla la condición:\n",
    "$\\int|\\Psi(x)|²dx = 1$ sustituyendo la integral por cuadraturas sobre el grid de puntos.\n",
    "\n",
    "A continuación **solo se normaliza la última solución** para visualizar el plot estático.\n"
   ]
  },
  {
   "cell_type": "code",
   "execution_count": null,
   "id": "efc4fe2d",
   "metadata": {},
   "outputs": [],
   "source": [
    "objects = {\n",
    "    \"eda_resultExpE\": results_dict[\"eda_resultExpE\"],\n",
    "    # \"eda_resultGAtoSE\": results_dict['eda_resultGAtoSE'],\n",
    "    # \"eda_resultGAtoSEMNA\": eda_resultGAtoSEMNA,\n",
    "    # \"eda_resultGAtoSPEDA\": eda_resultGAtoSPEDA,\n",
    "    # \"eda_resultD_well\": eda_resultD_well,\n",
    "}\n",
    "\n",
    "# Cálculo de las constantes para normalización soluciones\n",
    "for element in objects.keys():\n",
    "    integral = 0\n",
    "    for i in range(len(objects[element].sel_inds_hist[-1, 0, :-1])):\n",
    "        integral = integral + (objects[element].sel_inds_hist[-1, 0, :-1][i] ** 2) * (\n",
    "            5 / (n_variables - 1)\n",
    "        )\n",
    "\n",
    "    B = (1 / integral) ** 0.5\n",
    "    objects[element].sel_inds_hist[-1, 0, :-1] = (\n",
    "        B * objects[element].sel_inds_hist[-1, 0, :-1]\n",
    "    )\n",
    "\n",
    "# integral =0\n",
    "# for i in range(len(eda_resultGAtoSE.sel_inds_hist[-1,0,:-1])):\n",
    "# integral = integral + (eda_resultGAtoSE.sel_inds_hist[-1,0,:-1][i]**2)*(5/(n_variables-1))\n",
    "\n",
    "# B = (1/integral)**0.5"
   ]
  },
  {
   "cell_type": "markdown",
   "id": "28dbfffd",
   "metadata": {},
   "source": [
    "## Valor esperado de Energía de la solución encontrada por la función 1\n",
    "\n",
    "Una vez que la solución está normalizada el denominador $\\lt\\Psi|\\Psi\\gt = 1 $. Habiendo fijado la estimación de la energía $E_l = 0$ el fitness de la solución candidata debería ser simplemente $[\\lt \\Psi|\\hat H|\\Psi\\gt]^2$ que es el valor esperado de la energía de la solución encontrada elevado al cuadrado."
   ]
  },
  {
   "cell_type": "code",
   "execution_count": null,
   "id": "636b2724",
   "metadata": {},
   "outputs": [
    {
     "name": "stdout",
     "output_type": "stream",
     "text": [
      "La energía esperada de la solución encontrada es: 0.2657792117875291 \n",
      "El valor teórico es 0.19739208802178715\n"
     ]
    }
   ],
   "source": [
    "print(\n",
    "    \"La energía esperada de la solución encontrada es:\",\n",
    "    results_dict[\"eda_resultExpE\"].sel_inds_hist[-1, 0, -1] ** 0.5,\n",
    "    \"\\nEl valor teórico es 0.19739208802178715\",\n",
    ")"
   ]
  },
  {
   "cell_type": "code",
   "execution_count": null,
   "id": "a626e113",
   "metadata": {},
   "outputs": [],
   "source": [
    "# Para (n-1) y con los extremos acortados a la mitad: 0.23598239373218768\n",
    "# Para (n-1) y con los extremos sin acortar: 0.24469602017418932\n",
    "# Para n y con los extremos acortados a la mitad: 0.25105418336911456\n",
    "# Para n y con los extremos sin acortar: 0.2657792117875291"
   ]
  },
  {
   "cell_type": "markdown",
   "id": "8829e465",
   "metadata": {},
   "source": [
    "### Definición funciones analíticas\n",
    "Solo cambia el número n para cada Psi_n por lo que las definimos de forma genérica."
   ]
  },
  {
   "cell_type": "code",
   "execution_count": null,
   "id": "7d30e14b",
   "metadata": {},
   "outputs": [
    {
     "ename": "AssertionError",
     "evalue": "",
     "output_type": "error",
     "traceback": [
      "\u001b[0;31m---------------------------------------------------------------------------\u001b[0m",
      "\u001b[0;31mAssertionError\u001b[0m                            Traceback (most recent call last)",
      "Cell \u001b[0;32mIn[11], line 10\u001b[0m\n\u001b[1;32m      8\u001b[0m \u001b[38;5;28;01mfor\u001b[39;00m i \u001b[38;5;129;01min\u001b[39;00m \u001b[38;5;28mrange\u001b[39m(n_variables):\n\u001b[1;32m      9\u001b[0m     \u001b[38;5;28mint\u001b[39m \u001b[38;5;241m=\u001b[39m \u001b[38;5;28mint\u001b[39m \u001b[38;5;241m+\u001b[39m Psi_n(n)[i] \u001b[38;5;241m*\u001b[39m\u001b[38;5;241m*\u001b[39m \u001b[38;5;241m2\u001b[39m \u001b[38;5;241m*\u001b[39m (\u001b[38;5;241m5\u001b[39m \u001b[38;5;241m/\u001b[39m (n_variables \u001b[38;5;241m-\u001b[39m \u001b[38;5;241m1\u001b[39m))\n\u001b[0;32m---> 10\u001b[0m \u001b[38;5;28;01massert\u001b[39;00m \u001b[38;5;28mint\u001b[39m \u001b[38;5;241m==\u001b[39m \u001b[38;5;241m1.0\u001b[39m\n",
      "\u001b[0;31mAssertionError\u001b[0m: "
     ]
    }
   ],
   "source": [
    "def Psi_n(n):\n",
    "    return (2 / 5) ** 0.5 * np.sin(n * np.pi * np.linspace(0, 5, n_variables) / 5)\n",
    "\n",
    "\n",
    "# Comprobamos que todas las soluciones están normalizadas\n",
    "for n in [1, 2, 3, 4]:\n",
    "    int = 0\n",
    "    for i in range(n_variables):\n",
    "        int = int + Psi_n(n)[i] ** 2 * (5 / (n_variables - 1))\n",
    "    assert int == 1.0"
   ]
  },
  {
   "cell_type": "code",
   "execution_count": null,
   "id": "5c3f2e17-2d47-4cd9-9d59-43a1d77ecd64",
   "metadata": {},
   "outputs": [
    {
     "data": {
      "text/plain": [
       "<matplotlib.legend.Legend at 0x7f2c152d8700>"
      ]
     },
     "execution_count": 12,
     "metadata": {},
     "output_type": "execute_result"
    },
    {
     "data": {
      "image/png": "[encoded data removed]",
      "text/plain": [
       "<Figure size 1200x800 with 1 Axes>"
      ]
     },
     "metadata": {},
     "output_type": "display_data"
    }
   ],
   "source": [
    "plt.figure(figsize=(12, 8))\n",
    "for element in objects.keys():\n",
    "    plt.plot(\n",
    "        np.linspace(0, 5, n_variables),\n",
    "        objects[element].sel_inds_hist[-1, 0, :-1],\n",
    "        \"-\",\n",
    "        label=f'{element.split(\"da_\")[1]} $\\Psi(x)$',\n",
    "        alpha=0.9,\n",
    "    )\n",
    "\n",
    "plt.plot(np.linspace(0, 5, n_variables), Psi_n(1), \"r-\", label=\"Sol. analítica\")\n",
    "plt.gca().set_title(\"Función de onda $\\Psi(x)$\")\n",
    "plt.xlabel(\"x\")\n",
    "plt.gca().set_ylabel(r\"$\\Psi(x)$\")\n",
    "plt.legend()"
   ]
  }
 ],
 "metadata": {
  "kernelspec": {
   "display_name": "Python 3",
   "language": "python",
   "name": "python3"
  },
  "language_info": {
   "codemirror_mode": {
    "name": "ipython",
    "version": 3
   },
   "file_extension": ".py",
   "mimetype": "text/x-python",
   "name": "python",
   "nbconvert_exporter": "python",
   "pygments_lexer": "ipython3",
   "version": "3.10.12"
  }
 },
 "nbformat": 4,
 "nbformat_minor": 5
}
