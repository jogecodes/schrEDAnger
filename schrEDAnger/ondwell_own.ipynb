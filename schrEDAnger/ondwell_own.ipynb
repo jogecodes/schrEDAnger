{
 "cells": [
  {
   "cell_type": "code",
   "execution_count": 118,
   "metadata": {},
   "outputs": [],
   "source": [
    "import numpy as np\n",
    "from utils import oned_well\n",
    "import matplotlib.pyplot as plt\n",
    "from tqdm import tqdm"
   ]
  },
  {
   "cell_type": "code",
   "execution_count": 119,
   "metadata": {},
   "outputs": [
    {
     "name": "stdout",
     "output_type": "stream",
     "text": [
      "0.19739208802178715\n"
     ]
    }
   ],
   "source": [
    "well_length = 5\n",
    "ground_energy = (2 * np.pi) ** 2 / (8 * well_length**2)\n",
    "n_variables = 11\n",
    "grid_size = well_length / (n_variables - 1)\n",
    "\n",
    "print(ground_energy)"
   ]
  },
  {
   "cell_type": "code",
   "execution_count": 120,
   "metadata": {},
   "outputs": [
    {
     "name": "stderr",
     "output_type": "stream",
     "text": [
      "100%|██████████| 250/250 [00:37<00:00,  6.64it/s]\n"
     ]
    },
    {
     "name": "stdout",
     "output_type": "stream",
     "text": [
      "0.03720958360831048\n"
     ]
    }
   ],
   "source": [
    "generations = 250\n",
    "generation_size = 10000\n",
    "n_best = 100\n",
    "\n",
    "for generation in tqdm((range(generations))):\n",
    "    if generation == 0:\n",
    "        population = np.random.random([generation_size, n_variables])\n",
    "    scores = np.apply_along_axis(oned_well.compute_z, 1, population)\n",
    "    # max_scores_index = np.argpartition(scores, -n_best)[-n_best:] # (si fuese maximizar)\n",
    "    min_scores_index = np.argpartition(scores, n_best)[:n_best]\n",
    "    best_individuals = population[min_scores_index]\n",
    "    best_individuals_mean = best_individuals.transpose().mean(axis=1)\n",
    "    best_individuals_std = best_individuals.transpose().std(axis=1)\n",
    "    population = np.random.normal(\n",
    "        best_individuals_mean, best_individuals_std, [generation_size, n_variables]\n",
    "    )\n",
    "\n",
    "scores = np.apply_along_axis(oned_well.compute_z, 1, population)\n",
    "best_score = min(scores)\n",
    "best_individual = population[np.argmin(scores)]\n",
    "print(best_score)"
   ]
  },
  {
   "cell_type": "code",
   "execution_count": 121,
   "metadata": {},
   "outputs": [],
   "source": [
    "def Psi_n(n):\n",
    "    return (2 / 5) ** 0.5 * np.sin(n * np.pi * np.linspace(0, 5, n_variables) / 5)\n",
    "\n",
    "\n",
    "integral = 0\n",
    "for i in range(len(best_individual)):\n",
    "    integral = integral + (best_individual[i] ** 2) * (well_length / (n_variables - 1))\n",
    "\n",
    "B = (1 / integral) ** 0.5\n",
    "best_individual = B * best_individual"
   ]
  },
  {
   "cell_type": "code",
   "execution_count": 125,
   "metadata": {},
   "outputs": [
    {
     "ename": "SyntaxError",
     "evalue": "positional argument follows keyword argument (1593144213.py, line 2)",
     "output_type": "error",
     "traceback": [
      "\u001b[0;36m  Cell \u001b[0;32mIn[125], line 2\u001b[0;36m\u001b[0m\n\u001b[0;31m    plt.plot(np.linspace(0, 5, n_variables), Psi_n(1), label=\"Analytical\", \"-\")\u001b[0m\n\u001b[0m                                                                              ^\u001b[0m\n\u001b[0;31mSyntaxError\u001b[0m\u001b[0;31m:\u001b[0m positional argument follows keyword argument\n"
     ]
    }
   ],
   "source": [
    "plt.plot(np.linspace(0, 5, n_variables), best_individual, label=\"Numerical\")\n",
    "plt.plot(np.linspace(0, 5, n_variables), Psi_n(1), label=\"Analytical\", line=\"-\")\n",
    "plt.gca().set_title(\"$\\Psi(x)$ - Wave Function\")\n",
    "plt.gca().set_xlabel(\"x\")\n",
    "plt.gca().set_ylabel(\"$\\Psi(x)$\")\n",
    "plt.legend()"
   ]
  }
 ],
 "metadata": {
  "kernelspec": {
   "display_name": "schrodinger",
   "language": "python",
   "name": "python3"
  },
  "language_info": {
   "codemirror_mode": {
    "name": "ipython",
    "version": 3
   },
   "file_extension": ".py",
   "mimetype": "text/x-python",
   "name": "python",
   "nbconvert_exporter": "python",
   "pygments_lexer": "ipython3",
   "version": "3.10.12"
  }
 },
 "nbformat": 4,
 "nbformat_minor": 2
}
