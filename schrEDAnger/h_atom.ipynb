{
 "cells": [
  {
   "cell_type": "markdown",
   "metadata": {},
   "source": [
    "# Hydrogen atom solved with EDAs\n",
    "\n",
    "\n"
   ]
  },
  {
   "cell_type": "code",
   "execution_count": 2,
   "metadata": {},
   "outputs": [
    {
     "name": "stdout",
     "output_type": "stream",
     "text": [
      "Integral definida analítica 1.4161468365471424 \n",
      "Integral con scipy 1.4161468365471424 \n",
      "Integral con MonteCarlo 1.415424966022304 \n",
      "\n",
      "Función discretizada: \n",
      "\n",
      "Integral con función discretizada y método de Monte Carlo 1.405870388030861 \n",
      "Integral midpoint method 1.4352798903581172 \n",
      "Integral trapezoid method 1.4159331365958685\n"
     ]
    }
   ],
   "source": [
    "import numpy as np\n",
    "from scipy.integrate import quad\n",
    "\n",
    "def function(x):\n",
    "    return np.sin(x)\n",
    "\n",
    "def Intfunction(a, b):\n",
    "    return -np.cos(b)+np.cos(a)\n",
    "\n",
    "\n",
    "def MCIntfunction(a, b, n=1000):\n",
    "    xvals = np.random.uniform(a, b, n)\n",
    "    yvals = function(xvals)\n",
    "\n",
    "    ymean = np.mean(yvals)\n",
    "    Int = (b-a)*ymean\n",
    "\n",
    "    return Int\n",
    "\n",
    "## Discretizando la función \n",
    "\n",
    "n_variables = 48\n",
    "L = 2\n",
    "grid_size = L/(n_variables-1)\n",
    "xvals = np.linspace(0, L, n_variables)\n",
    "yvals = function(xvals)\n",
    "\n",
    "Midpointrule = 0\n",
    "for i in range(n_variables):\n",
    "    Midpointrule += grid_size*yvals[i]\n",
    "\n",
    "Trapezoidrule=0\n",
    "for i in range(n_variables-1):\n",
    "    Trapezoidrule += grid_size/2*(yvals[i]+yvals[i+1])\n",
    "\n",
    "\n",
    "def MCIntegral(n=10000):\n",
    "    index = np.random.randint(0, n_variables, n)\n",
    "    fdxs = yvals[index]\n",
    "\n",
    "    mean = np.mean(fdxs)\n",
    "    Int = (L)*mean\n",
    "\n",
    "    return Int\n",
    "\n",
    "\n",
    "print('Integral definida analítica', Intfunction(0, L ), '\\nIntegral con scipy', quad(function, 0 ,L)[0], '\\nIntegral con MonteCarlo', MCIntfunction(0,L ,1000000),'\\n\\nFunción discretizada: \\n'\n",
    "       '\\nIntegral con función discretizada y método de Monte Carlo', MCIntegral(1000000), '\\nIntegral midpoint method', Midpointrule, '\\nIntegral trapezoid method', Trapezoidrule)\n"
   ]
  }
 ],
 "metadata": {
  "kernelspec": {
   "display_name": "Python 3",
   "language": "python",
   "name": "python3"
  },
  "language_info": {
   "codemirror_mode": {
    "name": "ipython",
    "version": 3
   },
   "file_extension": ".py",
   "mimetype": "text/x-python",
   "name": "python",
   "nbconvert_exporter": "python",
   "pygments_lexer": "ipython3",
   "version": "3.10.12"
  }
 },
 "nbformat": 4,
 "nbformat_minor": 2
}
